{
 "cells": [
  {
   "cell_type": "markdown",
   "metadata": {},
   "source": [
    "1. GCD 계산 (빼기 연산)"
   ]
  },
  {
   "cell_type": "code",
   "execution_count": 11,
   "metadata": {},
   "outputs": [
    {
     "name": "stdout",
     "output_type": "stream",
     "text": [
      "3\n"
     ]
    }
   ],
   "source": [
    "def gcd_sub(a,b):\n",
    "    while a*b != 0:\n",
    "        if a > b :\n",
    "            a = a - b\n",
    "        else:\n",
    "            b = b - a\n",
    "    return a+b\n",
    "\n",
    "print(gcd_sub(12,3))"
   ]
  },
  {
   "cell_type": "markdown",
   "metadata": {},
   "source": [
    "2. GCD 계산 (나머지 연산)"
   ]
  },
  {
   "cell_type": "code",
   "execution_count": 12,
   "metadata": {},
   "outputs": [
    {
     "name": "stdout",
     "output_type": "stream",
     "text": [
      "6\n"
     ]
    }
   ],
   "source": [
    "def gcd_mod(a,b):\n",
    "    while a*b != 0:\n",
    "        if a > b :\n",
    "            a = a%b\n",
    "        else:\n",
    "            b = b%a\n",
    "    return a+b\n",
    "\n",
    "print(gcd_mod(6,12))"
   ]
  },
  {
   "cell_type": "markdown",
   "metadata": {},
   "source": [
    "2. GCD 계산 (재귀 연산)"
   ]
  },
  {
   "cell_type": "code",
   "execution_count": 22,
   "metadata": {},
   "outputs": [
    {
     "name": "stdout",
     "output_type": "stream",
     "text": [
      "6\n"
     ]
    }
   ],
   "source": [
    "def gcd_rec(a,b):\n",
    "    if a*b == 0:\n",
    "        return a+b\n",
    "    if a > b :\n",
    "        return gcd_rec(a%b,b)\n",
    "    else:\n",
    "        return gcd_rec(a,b%a)\n",
    "    \n",
    "print(gcd_rec(6,12))"
   ]
  }
 ],
 "metadata": {
  "kernelspec": {
   "display_name": "Python 3",
   "language": "python",
   "name": "python3"
  },
  "language_info": {
   "codemirror_mode": {
    "name": "ipython",
    "version": 3
   },
   "file_extension": ".py",
   "mimetype": "text/x-python",
   "name": "python",
   "nbconvert_exporter": "python",
   "pygments_lexer": "ipython3",
   "version": "3.11.8"
  }
 },
 "nbformat": 4,
 "nbformat_minor": 2
}
